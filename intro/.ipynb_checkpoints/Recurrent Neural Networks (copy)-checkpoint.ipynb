{
 "cells": [
  {
   "cell_type": "markdown",
   "metadata": {},
   "source": [
    "# Reccurent Neural Networks\n",
    "## Covers\n",
    "    1/ Character level Vanilla RNN implementation\n",
    "    2/ Generating a sequence from a random input\n",
    "    "
   ]
  },
  {
   "cell_type": "markdown",
   "metadata": {},
   "source": [
    "# Vanilla implementation"
   ]
  },
  {
   "cell_type": "code",
   "execution_count": 1,
   "metadata": {
    "collapsed": true
   },
   "outputs": [],
   "source": [
    "import numpy as np\n",
    "import tensorflow as tf\n",
    "import matplotlib.pyplot as plt"
   ]
  },
  {
   "cell_type": "code",
   "execution_count": 2,
   "metadata": {
    "collapsed": false
   },
   "outputs": [],
   "source": [
    "#Create a test data\n",
    "text = 'Hello how are you doing? I am great '\n",
    "x = list(text[0:len(text)-1])\n",
    "y = list(text[1:len(text)])"
   ]
  },
  {
   "cell_type": "code",
   "execution_count": 3,
   "metadata": {
    "collapsed": false
   },
   "outputs": [
    {
     "name": "stdout",
     "output_type": "stream",
     "text": [
      "**Input :x \n",
      " ['H', 'e', 'l', 'l', 'o', ' ', 'h', 'o', 'w', ' ', 'a', 'r', 'e', ' ', 'y', 'o', 'u', ' ', 'd', 'o', 'i', 'n', 'g', '?', ' ', 'I', ' ', 'a', 'm', ' ', 'g', 'r', 'e', 'a', 't']\n",
      "\n",
      "**LabelEncoder :x \n",
      " [ 2  6 10 10 13  0  8 13 17  0  4 14  6  0 18 13 16  0  5 13  9 12  7  1  0\n",
      "  3  0  4 11  0  7 14  6  4 15]\n",
      "\n",
      "**LabelBinarizer :x \n",
      " [[0 0 1 0 0 0 0 0 0 0 0 0 0 0 0 0 0 0 0]\n",
      " [0 0 0 0 0 0 1 0 0 0 0 0 0 0 0 0 0 0 0]\n",
      " [0 0 0 0 0 0 0 0 0 0 1 0 0 0 0 0 0 0 0]\n",
      " [0 0 0 0 0 0 0 0 0 0 1 0 0 0 0 0 0 0 0]\n",
      " [0 0 0 0 0 0 0 0 0 0 0 0 0 1 0 0 0 0 0]\n",
      " [1 0 0 0 0 0 0 0 0 0 0 0 0 0 0 0 0 0 0]\n",
      " [0 0 0 0 0 0 0 0 1 0 0 0 0 0 0 0 0 0 0]\n",
      " [0 0 0 0 0 0 0 0 0 0 0 0 0 1 0 0 0 0 0]\n",
      " [0 0 0 0 0 0 0 0 0 0 0 0 0 0 0 0 0 1 0]\n",
      " [1 0 0 0 0 0 0 0 0 0 0 0 0 0 0 0 0 0 0]\n",
      " [0 0 0 0 1 0 0 0 0 0 0 0 0 0 0 0 0 0 0]\n",
      " [0 0 0 0 0 0 0 0 0 0 0 0 0 0 1 0 0 0 0]\n",
      " [0 0 0 0 0 0 1 0 0 0 0 0 0 0 0 0 0 0 0]\n",
      " [1 0 0 0 0 0 0 0 0 0 0 0 0 0 0 0 0 0 0]\n",
      " [0 0 0 0 0 0 0 0 0 0 0 0 0 0 0 0 0 0 1]\n",
      " [0 0 0 0 0 0 0 0 0 0 0 0 0 1 0 0 0 0 0]\n",
      " [0 0 0 0 0 0 0 0 0 0 0 0 0 0 0 0 1 0 0]\n",
      " [1 0 0 0 0 0 0 0 0 0 0 0 0 0 0 0 0 0 0]\n",
      " [0 0 0 0 0 1 0 0 0 0 0 0 0 0 0 0 0 0 0]\n",
      " [0 0 0 0 0 0 0 0 0 0 0 0 0 1 0 0 0 0 0]\n",
      " [0 0 0 0 0 0 0 0 0 1 0 0 0 0 0 0 0 0 0]\n",
      " [0 0 0 0 0 0 0 0 0 0 0 0 1 0 0 0 0 0 0]\n",
      " [0 0 0 0 0 0 0 1 0 0 0 0 0 0 0 0 0 0 0]\n",
      " [0 1 0 0 0 0 0 0 0 0 0 0 0 0 0 0 0 0 0]\n",
      " [1 0 0 0 0 0 0 0 0 0 0 0 0 0 0 0 0 0 0]\n",
      " [0 0 0 1 0 0 0 0 0 0 0 0 0 0 0 0 0 0 0]\n",
      " [1 0 0 0 0 0 0 0 0 0 0 0 0 0 0 0 0 0 0]\n",
      " [0 0 0 0 1 0 0 0 0 0 0 0 0 0 0 0 0 0 0]\n",
      " [0 0 0 0 0 0 0 0 0 0 0 1 0 0 0 0 0 0 0]\n",
      " [1 0 0 0 0 0 0 0 0 0 0 0 0 0 0 0 0 0 0]\n",
      " [0 0 0 0 0 0 0 1 0 0 0 0 0 0 0 0 0 0 0]\n",
      " [0 0 0 0 0 0 0 0 0 0 0 0 0 0 1 0 0 0 0]\n",
      " [0 0 0 0 0 0 1 0 0 0 0 0 0 0 0 0 0 0 0]\n",
      " [0 0 0 0 1 0 0 0 0 0 0 0 0 0 0 0 0 0 0]\n",
      " [0 0 0 0 0 0 0 0 0 0 0 0 0 0 0 1 0 0 0]]\n",
      "\n",
      "**Transform back :x \n",
      " ['H' 'e' 'l' 'l' 'o' ' ' 'h' 'o' 'w' ' ' 'a' 'r' 'e' ' ' 'y' 'o' 'u' ' '\n",
      " 'd' 'o' 'i' 'n' 'g' '?' ' ' 'I' ' ' 'a' 'm' ' ' 'g' 'r' 'e' 'a' 't']\n"
     ]
    }
   ],
   "source": [
    "#Converting the input to one hot encoding \n",
    "from sklearn.preprocessing import LabelEncoder, LabelBinarizer\n",
    "\n",
    "# String to int\n",
    "le = LabelEncoder()\n",
    "vocab = list(set(text))\n",
    "le.fit(vocab)\n",
    "text_int = le.transform(vocab)\n",
    "print('**Input :x \\n', x)\n",
    "x = le.transform(x)\n",
    "y = le.transform(y)\n",
    "print('\\n**LabelEncoder :x \\n', x)\n",
    "#One-hot encoding\n",
    "lb = LabelBinarizer()\n",
    "lb.fit(text_int)\n",
    "x = lb.transform(x)\n",
    "y = lb.transform(y)\n",
    "print('\\n**LabelBinarizer :x \\n', x)\n",
    "print('\\n**Transform back :x \\n', le.inverse_transform(lb.inverse_transform(x)))\n",
    "vocab_dict = dict(zip(text_int.tolist(), vocab))\n",
    "vocab_reverse_dict = dict(zip(vocab, text_int.tolist()))\n",
    "vocab_onehot = lb.transform(text_int)\n",
    "vocab_onehot_dict = dict(zip(text_int.tolist(), vocab_onehot))"
   ]
  },
  {
   "cell_type": "code",
   "execution_count": 4,
   "metadata": {
    "collapsed": false
   },
   "outputs": [],
   "source": [
    "tf.reset_default_graph()\n",
    "hidden_size = 10\n",
    "truncated_backprop_length = state_size\n",
    "vocab_size = len(set(text))\n",
    "\n",
    "# model parameters\n",
    "x_tensor = tf.placeholder(tf.float32, [vocab_size, truncated_backprop_length])\n",
    "y_tensor = tf.placeholder(tf.int32, [vocab_size, truncated_backprop_length])\n",
    "\n",
    "#unpack the columns\n",
    "inputs_series = tf.unstack(x_tensor, axis=1)\n",
    "labels_series = tf.unstack(y_tensor, axis=1)\n",
    "\n",
    "#Initialize the init state to zeros\n",
    "init_state = tf.Variable(tf.zeros([1, hidden_size]),dtype=tf.float32)\n",
    "\n",
    "# input to hidden weights\n",
    "Wxh = tf.Variable(tf.truncated_normal((vocab_size, hidden_size), stddev=0.01), dtype=tf.float32, name='Wxh')\n",
    "\n",
    "# hidden to hidden weights\n",
    "Whh = tf.Variable(tf.truncated_normal((hidden_size, hidden_size), stddev=0.01), dtype=tf.float32, name='Whh')\n",
    "bhh = tf.Variable(tf.zeros(hidden_size), dtype=tf.float32, name='bhh')\n",
    "# Hidden to outputs\n",
    "Why = tf.Variable(tf.truncated_normal((hidden_size, vocab_size), stddev=0.01), dtype=tf.float32, name='Why')\n",
    "bhy = tf.Variable(tf.zeros(vocab_size), dtype=tf.float32, name='bhy')\n",
    "\n",
    "# Forward pass\n",
    "current_state = init_state\n",
    "states_series = []\n",
    "for X_i in inputs_series:\n",
    "    X_i = tf.reshape(X_i, [-1, vocab_size])\n",
    "    next_state = tf.tanh(tf.matmul(X_i, Wxh) + tf.matmul(current_state,Whh) + bhh)\n",
    "    #next_state = tf.tanh(tf.matmul(x, Wxh) )\n",
    "    states_series.append(next_state)\n",
    "    current_state = next_state\n",
    "\n",
    "#logits \n",
    "logits_series = [tf.matmul(state, Why)+bhy for state in states_series]\n",
    "\n"
   ]
  },
  {
   "cell_type": "markdown",
   "metadata": {},
   "source": [
    "The network is trained, and during testing, the output is feed back to input to generate an sequence"
   ]
  },
  {
   "cell_type": "code",
   "execution_count": 5,
   "metadata": {
    "collapsed": false,
    "scrolled": true
   },
   "outputs": [],
   "source": [
    "# Running the train session\n",
    "from random import randint\n",
    "\n",
    "def generate_sequence(batchX, num_samples=20):\n",
    "    print('Input Feed:', le.inverse_transform(lb.inverse_transform(batchX)), end=' ')\n",
    "    print('Output Obtained: ', end='')\n",
    "    for i in range(num_samples):\n",
    "        _pred_series, _current_state = sess.run([pred_series, current_state], feed_dict={x_tensor:batchX.T})\n",
    "        idx_o = np.argmax(_pred_series, axis=2).flatten()\n",
    "        #print('Input', le.inverse_transform(lb.inverse_transform(batchX)))\n",
    "        #print('Output:', [dictionary[idx_o[i]] for i in range(truncated_backprop_length)])\n",
    "        batchX = np.roll(batchX, -1, axis=0)\n",
    "        batchX[truncated_backprop_length-1] = vocab_onehot_dict[idx_o[truncated_backprop_length-1]]\n",
    "        #batchX = vocab_onehot_dict[idx_o]\n",
    "        #if i > 0:\n",
    "        print(dictionary[idx_o[truncated_backprop_length-1]], end='')\n",
    "    print('\\n')\n",
    "    return _pred_series, _current_state\n",
    "\n",
    "def run(valid_char, test_char, state_size):\n",
    "    \n",
    "    logits_series, states_series, labels_series = create_graph(state_size)\n",
    "    \n",
    "    #Loss function\n",
    "    pred_series = [tf.nn.softmax(logits) for logits in logits_series]\n",
    "    loss = tf.reduce_mean([tf.nn.softmax_cross_entropy_with_logits(logits=logits, labels=labels) for logits, labels in zip(logits_series, labels_series)])\n",
    "    optimizer = tf.train.AdagradOptimizer(0.5).minimize(loss)\n",
    "    \n",
    "    truncated_backprop_length = state_size\n",
    "    num_epoch = 50\n",
    "    num_batches = len(x)//truncated_backprop_length\n",
    "    dictionary = dict(zip(text_int.tolist(), vocab))\n",
    "\n",
    "    with tf.Session() as sess:\n",
    "        sess.run(tf.global_variables_initializer())\n",
    "    \n",
    "        for epoch in range(num_epoch):\n",
    "            for batch in range(len(x)):\n",
    "                start_idx = batch\n",
    "                end_idx = min(start_idx + truncated_backprop_length, len(x))\n",
    "                if (end_idx - start_idx) < truncated_backprop_length :\n",
    "                    break\n",
    "                batchX = x[start_idx:end_idx].T\n",
    "                batchY = y[start_idx:end_idx].T\n",
    "            \n",
    "                _loss, _ = sess.run([loss, optimizer], feed_dict={x_tensor:batchX, y_tensor:batchY})\n",
    "            if(epoch %10 ==0):\n",
    "                print('Loss epoch({:})={:3.4f}'.format(epoch,_loss))\n",
    "                input_char = valid_char\n",
    "                batchX = np.array([vocab_onehot_dict[vocab_reverse_dict[i]].tolist() for i in input_char])\n",
    "            generate_sequence(batchX)\n",
    "    \n",
    "        print('Giving a random input and generating a sequence by passing back the output to input:')\n",
    "        input_char = test_char\n",
    "        batchX = np.array([vocab_onehot_dict[vocab_reverse_dict[i]].tolist() for i in input_char])\n",
    "        _pred, _state = generate_sequence(batchX, 50)\n",
    "    \n",
    "        # Save Model\n",
    "        save_model = './char_rnn'\n",
    "        saver = tf.train.Saver()\n",
    "        save_path = saver.save(sess, save_model)\n",
    "        print(\"Model saved in file: %s\" % save_path)"
   ]
  },
  {
   "cell_type": "code",
   "execution_count": 6,
   "metadata": {
    "collapsed": false
   },
   "outputs": [
    {
     "ename": "NameError",
     "evalue": "name 'x_tensor' is not defined",
     "output_type": "error",
     "traceback": [
      "\u001b[0;31m---------------------------------------------------------------------------\u001b[0m",
      "\u001b[0;31mNameError\u001b[0m                                 Traceback (most recent call last)",
      "\u001b[0;32m<ipython-input-6-3be587a35be4>\u001b[0m in \u001b[0;36m<module>\u001b[0;34m()\u001b[0m\n\u001b[0;32m----> 1\u001b[0;31m \u001b[0mrun\u001b[0m\u001b[0;34m(\u001b[0m\u001b[0;34m'H'\u001b[0m\u001b[0;34m,\u001b[0m \u001b[0;34m'h'\u001b[0m\u001b[0;34m,\u001b[0m \u001b[0;36m1\u001b[0m\u001b[0;34m)\u001b[0m\u001b[0;34m\u001b[0m\u001b[0m\n\u001b[0m",
      "\u001b[0;32m<ipython-input-5-88ec8d62bb9f>\u001b[0m in \u001b[0;36mrun\u001b[0;34m(valid_char, test_char, state_size)\u001b[0m\n\u001b[1;32m     44\u001b[0m                 \u001b[0mbatchY\u001b[0m \u001b[0;34m=\u001b[0m \u001b[0my\u001b[0m\u001b[0;34m[\u001b[0m\u001b[0mstart_idx\u001b[0m\u001b[0;34m:\u001b[0m\u001b[0mend_idx\u001b[0m\u001b[0;34m]\u001b[0m\u001b[0;34m.\u001b[0m\u001b[0mT\u001b[0m\u001b[0;34m\u001b[0m\u001b[0m\n\u001b[1;32m     45\u001b[0m \u001b[0;34m\u001b[0m\u001b[0m\n\u001b[0;32m---> 46\u001b[0;31m                 \u001b[0m_loss\u001b[0m\u001b[0;34m,\u001b[0m \u001b[0m_\u001b[0m \u001b[0;34m=\u001b[0m \u001b[0msess\u001b[0m\u001b[0;34m.\u001b[0m\u001b[0mrun\u001b[0m\u001b[0;34m(\u001b[0m\u001b[0;34m[\u001b[0m\u001b[0mloss\u001b[0m\u001b[0;34m,\u001b[0m \u001b[0moptimizer\u001b[0m\u001b[0;34m]\u001b[0m\u001b[0;34m,\u001b[0m \u001b[0mfeed_dict\u001b[0m\u001b[0;34m=\u001b[0m\u001b[0;34m{\u001b[0m\u001b[0mx_tensor\u001b[0m\u001b[0;34m:\u001b[0m\u001b[0mbatchX\u001b[0m\u001b[0;34m,\u001b[0m \u001b[0my_tensor\u001b[0m\u001b[0;34m:\u001b[0m\u001b[0mbatchY\u001b[0m\u001b[0;34m}\u001b[0m\u001b[0;34m)\u001b[0m\u001b[0;34m\u001b[0m\u001b[0m\n\u001b[0m\u001b[1;32m     47\u001b[0m             \u001b[0;32mif\u001b[0m\u001b[0;34m(\u001b[0m\u001b[0mepoch\u001b[0m \u001b[0;34m%\u001b[0m\u001b[0;36m10\u001b[0m \u001b[0;34m==\u001b[0m\u001b[0;36m0\u001b[0m\u001b[0;34m)\u001b[0m\u001b[0;34m:\u001b[0m\u001b[0;34m\u001b[0m\u001b[0m\n\u001b[1;32m     48\u001b[0m                 \u001b[0mprint\u001b[0m\u001b[0;34m(\u001b[0m\u001b[0;34m'Loss epoch({:})={:3.4f}'\u001b[0m\u001b[0;34m.\u001b[0m\u001b[0mformat\u001b[0m\u001b[0;34m(\u001b[0m\u001b[0mepoch\u001b[0m\u001b[0;34m,\u001b[0m\u001b[0m_loss\u001b[0m\u001b[0;34m)\u001b[0m\u001b[0;34m)\u001b[0m\u001b[0;34m\u001b[0m\u001b[0m\n",
      "\u001b[0;31mNameError\u001b[0m: name 'x_tensor' is not defined"
     ]
    }
   ],
   "source": [
    "run('H', 'h', 1)"
   ]
  },
  {
   "cell_type": "markdown",
   "metadata": {},
   "source": [
    "# Experiments with state variable"
   ]
  },
  {
   "cell_type": "code",
   "execution_count": null,
   "metadata": {
    "collapsed": false
   },
   "outputs": [],
   "source": [
    "# Load the model \n",
    "tf.reset_default_graph()\n",
    "\n",
    "loaded_graph = tf.Graph()\n",
    "\n",
    "def pred_next_char(input_char, sess, _state):\n",
    "    X = np.array(vocab_onehot_dict[vocab_reverse_dict[input_char]].tolist())\n",
    "    X = tf.constant(X, dtype=tf.float32)\n",
    "    X = tf.reshape(X, [-1, vocab_size])\n",
    "    state = tf.constant(_state, dtype=tf.float32)\n",
    "        \n",
    "    h = tf.tanh(tf.matmul(X, loaded_Wxh) + tf.matmul(state, loaded_Whh) + loaded_bhh)\n",
    "    p = tf.matmul(h, loaded_Why)+loaded_bhy\n",
    "    out = sess.run(p)\n",
    "    return out, h\n",
    "\n",
    "with tf.Session(graph=loaded_graph) as sess:\n",
    "    # Load model\n",
    "    loader = tf.train.import_meta_graph(save_model+ '.meta')\n",
    "    loader.restore(sess, save_model)\n",
    "    loaded_Wxh = loaded_graph.get_tensor_by_name('Wxh:0')\n",
    "    loaded_Whh = loaded_graph.get_tensor_by_name('Whh:0')\n",
    "    loaded_bhh = loaded_graph.get_tensor_by_name('bhh:0')\n",
    "    loaded_Why = loaded_graph.get_tensor_by_name('Why:0')\n",
    "    loaded_bhy = loaded_graph.get_tensor_by_name('bhy:0')\n",
    "    \n",
    "    input_char = 'H'\n",
    "    print('Input Feed:', [input_char], end=' ')\n",
    "    print('Output Obtained: ', end='')\n",
    "    h = _state\n",
    "    for i in range(50):\n",
    "        out, h = pred_next_char(input_char, sess, h)  \n",
    "        idx_o = np.argmax(out, axis=1)\n",
    "        input_char = dictionary[idx_o[0]]\n",
    "        print(input_char, end='')"
   ]
  },
  {
   "cell_type": "code",
   "execution_count": null,
   "metadata": {
    "collapsed": false
   },
   "outputs": [],
   "source": [
    "_state"
   ]
  },
  {
   "cell_type": "code",
   "execution_count": null,
   "metadata": {
    "collapsed": false
   },
   "outputs": [],
   "source": [
    "dictionary[5]"
   ]
  },
  {
   "cell_type": "code",
   "execution_count": null,
   "metadata": {
    "collapsed": true
   },
   "outputs": [],
   "source": []
  }
 ],
 "metadata": {
  "kernelspec": {
   "display_name": "Python 3",
   "language": "python",
   "name": "python3"
  },
  "language_info": {
   "codemirror_mode": {
    "name": "ipython",
    "version": 3
   },
   "file_extension": ".py",
   "mimetype": "text/x-python",
   "name": "python",
   "nbconvert_exporter": "python",
   "pygments_lexer": "ipython3",
   "version": "3.5.2"
  }
 },
 "nbformat": 4,
 "nbformat_minor": 2
}
