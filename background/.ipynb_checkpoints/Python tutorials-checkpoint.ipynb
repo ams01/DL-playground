{
 "cells": [
  {
   "cell_type": "markdown",
   "metadata": {},
   "source": [
    "________________________________\n",
    "# Python Tutorials\n",
    "_________________________________"
   ]
  },
  {
   "cell_type": "markdown",
   "metadata": {},
   "source": [
    "## Python\n",
    "\n",
    "We will be using Python to code all our ML/DL projects. Python along with few popular libraries like numpy, scipy, pandas, matplotlib becomes a powerful environment for scientific computing. We will have a  crash course of python and few popular libraries in this notebook.\n",
    "\n",
    "### Python IDEs (i use)\n",
    "For the end python project i use [`Pycharm`](https://www.jetbrains.com/pycharm/) but for experimenting on modules i use `Jupyter notebook`. All the notes prepared in this project is using `Jupyter notebook`. Can be installed going into `Anaconda env` (ex, ml) and typing `(ml)$conda install jupyter`\n",
    "\n",
    "## Intro to Pycharm\n",
    "\n",
    "- To do\n",
    "\n",
    "## Intro to Jupyter notebook\n",
    "\n",
    "- To do"
   ]
  },
  {
   "cell_type": "markdown",
   "metadata": {},
   "source": [
    "## Intro to Python\n",
    "Python is a [high-level](http://qr.ae/TUNPva), [dynamically typed](http://qr.ae/TUNPvZ) programming language.\n",
    "\n",
    "- To do -"
   ]
  },
  {
   "cell_type": "markdown",
   "metadata": {},
   "source": [
    "## Intro to Numpy\n",
    "- To do -"
   ]
  },
  {
   "cell_type": "markdown",
   "metadata": {},
   "source": [
    "## Intro to Pandas\n",
    " - To do "
   ]
  },
  {
   "cell_type": "markdown",
   "metadata": {},
   "source": [
    "## Intro to Matplotlib\n",
    "- To do"
   ]
  },
  {
   "cell_type": "code",
   "execution_count": null,
   "metadata": {},
   "outputs": [],
   "source": []
  }
 ],
 "metadata": {
  "kernelspec": {
   "display_name": "Python 3",
   "language": "python",
   "name": "python3"
  },
  "language_info": {
   "codemirror_mode": {
    "name": "ipython",
    "version": 3
   },
   "file_extension": ".py",
   "mimetype": "text/x-python",
   "name": "python",
   "nbconvert_exporter": "python",
   "pygments_lexer": "ipython3",
   "version": "3.5.2"
  }
 },
 "nbformat": 4,
 "nbformat_minor": 2
}
