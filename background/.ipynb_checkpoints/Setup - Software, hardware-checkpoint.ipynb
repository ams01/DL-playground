{
 "cells": [
  {
   "cell_type": "markdown",
   "metadata": {},
   "source": [
    "___________________________\n",
    "# Setting up Python environment for ML/DL\n",
    "__________________________\n",
    "\n",
    "> You can setup two ways:\n",
    "    1. Locally on your laptop/desktop with/without GPU\n",
    "    2. Remotely on Amazon Web Services (AWS), google Cloud Platform (GCP)"
   ]
  },
  {
   "cell_type": "markdown",
   "metadata": {},
   "source": [
    "_______________________________\n",
    "## Local setup - Software\n",
    "\n",
    "There are many ways to do it, but the recommended way is the following:\n",
    "\n",
    "### Step 1: Installing Anaconda \n",
    "> Recommended way is to use [Anaconda Python distribution](https://www.anaconda.com/download/). Download the 3.6 version, which installs python 3+. \n",
    "\n",
    "> Install *Anaconda Virtual Environment* after installing the above package using:    \n",
    "        **`$conda create -n ml python=3.6 anaconda`**    \n",
    "    This will create a environment called `ml`(you can choose whatever name you want).\n",
    "> To activate the environment you run, **`$source activate ml` **\n",
    "> To exit you can do, **`(ml)$source deactivate ml` **   \n",
    "\n",
    "*A virtual environment is a isolated, working copy of Python that maintains its own files, directories, and paths so that you can work with specific versions of libraries of Python  without affecting other Python installs (like the system libraries). If you need a different version of python with different packages, create a new environment with new name as shown above*\n",
    "\n",
    "Testing the installation:\n",
    "\n",
    "> Open terminal   \n",
    "> Go to the ml environment: **`$source activate ml`**   \n",
    "> Type: **`(ml)$Python`**   \n",
    "> Check packages: **`import numpy as np`**     \n",
    "> Check version: **`np.__version__`** (all python package versions can be checked using `pkg.__version__`)    \n",
    "\n",
    "### Step 2: Installing other packages\n",
    "\n",
    "> To install any missing package, go to ml environment and do: **` conda install <package-name>`** \n",
    "\n",
    "### Step 3: Installing Tensorflow\n",
    "\n",
    "> Activate the conda envirnment\n",
    "> Install using pip: **`pip install --ignore-installed --upgrade <tfBinaryURL>` **\n",
    "\n",
    ">`tfBinaryURL` can be obtained from the following URL: https://www.tensorflow.org/install/install_linux#the_url_of_the_tensorflow_python_package\n",
    "\n",
    ">For Python 3.6, with CPU only support, it would be:\n",
    "\n",
    "> **`pip install --ignore-installed --upgrade  https://storage.googleapis.com/tensorflow/linux/cpu/tensorflow-1.10.1-cp36-cp36m-linux_x86_64.whl `**\n"
   ]
  },
  {
   "cell_type": "markdown",
   "metadata": {},
   "source": [
    "_____________________________\n",
    "## Local Setup: Hardware \n",
    "\n",
    "To learn DL concepts one can start with a laptop and run the algorithms on CPU, but for large DL models you need GPUs to work with: either use the cloud computing or build a deep learning server.\n",
    "\n",
    "If your planning to use Cloud or just CPU for DL work, skip the below section. \n",
    "\n",
    "### Deep learning Rig on a 'budget' (My setup):\n",
    " <img src='assets/rig.jpeg'>\n",
    " "
   ]
  },
  {
   "cell_type": "markdown",
   "metadata": {},
   "source": [
    "**Choosing the parts:**\n",
    "\n",
    "  * For good value for money get GTX 1080 Ti (or RTX 2080 if less memory is fine for your kind of work). For an upgrade get RTX 2080 Ti, and for a budget get GTX 1060).\n",
    "  * Consider a cheaper CPU with 28 pcie lane if your are going for only one GPU.   \n",
    "  * Get a computer case, which can accommodate a radiator on the top if you are installing a large air CPU cooler and going for a liquid cooled GPU. Mine didn't have enough space for the GPU radiator to be installed on top.    \n",
    "  * Plan your airflow and fan placements before you buy any of the components.   \n",
    "  * And most importantly, go through the blog by Tim Dettmers about [hardware guide to deep learning.](http://timdettmers.com/2015/03/09/deep-learning-hardware-guide/)"
   ]
  },
  {
   "cell_type": "markdown",
   "metadata": {},
   "source": [
    "### Summary of the parts for the build:\n",
    "\n",
    ">**CPU** : Xeon X5-1620E5 (3.5GHz, 4 cores)    \n",
    ">**CPU cooler**: Cooler master Hyper 212 evo   \n",
    ">**Motherboard**: ASUS X99-a    \n",
    ">**GPU**: MSI Geforce GTX 1080Ti    \n",
    ">**SSD**: Samsung 850 EVO 256GB    \n",
    ">**HDD**: Western Digital 1 TB   \n",
    ">**RAM**: Hyper X fury DDR4 8x2 GB    \n",
    ">**Case**: NZXT S340 mid-tower   \n",
    ">Noctua Case Fans     "
   ]
  },
  {
   "cell_type": "markdown",
   "metadata": {},
   "source": [
    "___________________________________________\n",
    "## Remote : Cloud based Setup \n",
    "\n",
    "> * Google Cloud is cost-efficient compared to AWS. Check the blog: [Comparing google TPUV2 vs nvidia v100 ](https://blog.riseml.com/comparing-google-tpuv2-against-nvidia-v100-on-resnet-50-c2bbb6a51e5e)    \n",
    "> * The above is primarily for tensorflow based framework. For example, fastai team was able to train Pytorch based library faster and cheaper on AWS than on Google cloud. Check fast.ai's [Now anyone can train imagenet in 18 minutes](http://www.fast.ai/2018/08/10/fastai-diu-imagenet/)   \n",
    "\n",
    "> * There are other cheaper options one can try: Paperspace, FloydHub\n",
    "\n",
    "_________________________________________"
   ]
  },
  {
   "cell_type": "markdown",
   "metadata": {},
   "source": [
    "< END >"
   ]
  },
  {
   "cell_type": "code",
   "execution_count": null,
   "metadata": {},
   "outputs": [],
   "source": []
  }
 ],
 "metadata": {
  "kernelspec": {
   "display_name": "Python 3",
   "language": "python",
   "name": "python3"
  },
  "language_info": {
   "codemirror_mode": {
    "name": "ipython",
    "version": 3
   },
   "file_extension": ".py",
   "mimetype": "text/x-python",
   "name": "python",
   "nbconvert_exporter": "python",
   "pygments_lexer": "ipython3",
   "version": "3.5.2"
  }
 },
 "nbformat": 4,
 "nbformat_minor": 2
}
