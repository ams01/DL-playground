{
 "cells": [
  {
   "cell_type": "markdown",
   "metadata": {},
   "source": [
    "# Preparing Cifar 10 input pipeline \n",
    "\n",
    "> **Data augmentation in tensorflow:**\n",
    "\n",
    "> 1. Random cropping - Randomly crop a portion of the image and resize.\n",
    "> 2. Random flips - flip the images randomly\n",
    "> 3. Rotation at different angles\n",
    "> 4. All the above done randomly at each batch\n",
    "\n",
    "Download cifar 10 from:http://www.cs.toronto.edu/~kriz/cifar-10-python.tar.gz"
   ]
  },
  {
   "cell_type": "code",
   "execution_count": 2,
   "metadata": {},
   "outputs": [
    {
     "name": "stdout",
     "output_type": "stream",
     "text": [
      "Python version: 3.5.2 (default, Nov 23 2017, 16:37:01) \n",
      "[GCC 5.4.0 20160609]\n",
      "TF version: 1.8.0\n"
     ]
    }
   ],
   "source": [
    "# load the necessary\n",
    "import matplotlib.pylab as plt\n",
    "%matplotlib inline\n",
    "import os\n",
    "import numpy as np\n",
    "import math as m\n",
    "import sys\n",
    "import glob\n",
    "from six.moves import cPickle as pickle\n",
    "print('Python version:',sys.version)\n",
    "import tensorflow as tf\n",
    "print('TF version:',tf.__version__) "
   ]
  },
  {
   "cell_type": "markdown",
   "metadata": {},
   "source": [
    "________________\n",
    "## Convert the images to tfrecords\n",
    "__________________"
   ]
  },
  {
   "cell_type": "code",
   "execution_count": 3,
   "metadata": {},
   "outputs": [
    {
     "name": "stdout",
     "output_type": "stream",
     "text": [
      "Generating /home/vijay/datasets/image/cifar-10/cifar-10-batches-py/train.tfrecords\n",
      "/home/vijay/datasets/image/cifar-10/cifar-10-batches-py/data_batch_1\n",
      "/home/vijay/datasets/image/cifar-10/cifar-10-batches-py/data_batch_2\n",
      "/home/vijay/datasets/image/cifar-10/cifar-10-batches-py/data_batch_3\n",
      "/home/vijay/datasets/image/cifar-10/cifar-10-batches-py/data_batch_4\n",
      "Generating /home/vijay/datasets/image/cifar-10/cifar-10-batches-py/eval.tfrecords\n",
      "/home/vijay/datasets/image/cifar-10/cifar-10-batches-py/test_batch\n",
      "Generating /home/vijay/datasets/image/cifar-10/cifar-10-batches-py/validation.tfrecords\n",
      "/home/vijay/datasets/image/cifar-10/cifar-10-batches-py/data_batch_5\n"
     ]
    }
   ],
   "source": [
    "CIFAR_LOCAL_FOLDER = '/home/vijay/datasets/image/cifar-10/cifar-10-batches-py'\n",
    "\n",
    "# get the filenames\n",
    "def _get_file_names():\n",
    "    \"\"\"Returns the file names expected to exist in the input_dir.\"\"\"\n",
    "    file_names = {}\n",
    "    file_names['train'] = ['data_batch_%d' % i for i in range(1, 5)]\n",
    "    file_names['validation'] = ['data_batch_5']\n",
    "    file_names['eval'] = ['test_batch']\n",
    "    return file_names\n",
    "file_names = _get_file_names()\n",
    "\n",
    "# Read binary files\n",
    "def read_pickle_from_file(filename):\n",
    "    with tf.gfile.Open(filename, 'rb') as f:\n",
    "        try:\n",
    "            data_dict = pickle.load(f, encoding='bytes')    \n",
    "        except pickle.UnpicklingError:\n",
    "            print('UnpicklingError...')\n",
    "    return data_dict\n",
    "\n",
    "# convert to tfrecords\n",
    "\n",
    "def convert_to_tfrecord(input_files, output_file):\n",
    "    \"\"\"Converts a file to TFRecords.\"\"\"\n",
    "    print('Generating %s' % output_file)\n",
    "    with tf.python_io.TFRecordWriter(output_file) as record_writer:\n",
    "        for input_file in input_files:\n",
    "            print(input_file)\n",
    "            data_dict = read_pickle_from_file(input_file)\n",
    "            data = data_dict[b'data']\n",
    "            labels = data_dict[b'labels']\n",
    "            num_entries_in_batch = len(labels)\n",
    "            for i in range(num_entries_in_batch):\n",
    "                feature = {}\n",
    "                feature['image'] = tf.train.Feature(bytes_list=tf.train.BytesList(value=[data[i].tobytes()]))\n",
    "                feature['label'] = tf.train.Feature(int64_list=tf.train.Int64List(value=[labels[i]]))\n",
    "                \n",
    "                features = tf.train.Features(feature=feature)\n",
    "                example = tf.train.Example(features=features)\n",
    "                record_writer.write(example.SerializeToString())\n",
    "                \n",
    "# write tfrecords for train/valida and test                \n",
    "for mode, files in file_names.items():\n",
    "    input_files = [os.path.join(CIFAR_LOCAL_FOLDER, f) for f in files]\n",
    "    output_file = os.path.join(CIFAR_LOCAL_FOLDER, mode + '.tfrecords')\n",
    "    try:\n",
    "        os.remove(output_file)\n",
    "    except OSError:\n",
    "        pass               \n",
    "    convert_to_tfrecord(input_files, output_file)"
   ]
  },
  {
   "cell_type": "markdown",
   "metadata": {},
   "source": [
    "______________\n",
    "## Check the tfrecords\n",
    "________________"
   ]
  },
  {
   "cell_type": "code",
   "execution_count": 4,
   "metadata": {},
   "outputs": [],
   "source": [
    "# test whether the tfrecords are written properly\n",
    "\n",
    "for serialized_example in tf.python_io.tf_record_iterator('/home/vijay/datasets/image/cifar-10/cifar-10-batches-py/validation.tfrecords'):\n",
    "    example = tf.train.Example()\n",
    "    example.ParseFromString(serialized_example)\n",
    "    np.frombuffer(b'\\x01\\x02', dtype=np.uint8)\n",
    "    x = np.frombuffer(example.features.feature['image'].bytes_list.value[0], dtype=np.uint8).astype('float')\n",
    "    y = np.array(example.features.feature['label'].int64_list.value)\n",
    "    break   "
   ]
  },
  {
   "cell_type": "code",
   "execution_count": 5,
   "metadata": {},
   "outputs": [
    {
     "data": {
      "image/png": "[encoded data removed]",
      "text/plain": [
       "<Figure size 432x288 with 1 Axes>"
      ]
     },
     "metadata": {},
     "output_type": "display_data"
    }
   ],
   "source": [
    "img = np.transpose(np.reshape(x/255, [3,32,32]), [1,2,0])\n",
    "\n",
    "plt.imshow(img)\n",
    "plt.show()"
   ]
  },
  {
   "cell_type": "code",
   "execution_count": 6,
   "metadata": {},
   "outputs": [
    {
     "name": "stdout",
     "output_type": "stream",
     "text": [
      "class label: [1]\n"
     ]
    }
   ],
   "source": [
    "print('class label:',y)"
   ]
  },
  {
   "cell_type": "markdown",
   "metadata": {},
   "source": [
    "_______________________\n",
    "## Data Augmentation pipeline\n",
    "_______________________\n"
   ]
  },
  {
   "cell_type": "code",
   "execution_count": 9,
   "metadata": {},
   "outputs": [],
   "source": [
    "# The data augmentation function \n",
    "# Create a 'train.csv' file that contains images and mask as columns\n",
    "\n",
    "WIDTH = 32\n",
    "HEIGHT = 32\n",
    "DEPTH = 3\n",
    "def _crop_random(image):\n",
    "    \"\"\"Randomly crops image and mask\"\"\"\n",
    "    \n",
    "    cond_crop = tf.cast(tf.random_uniform(\n",
    "        [], maxval=2, dtype=tf.int32), tf.bool)\n",
    "    \n",
    "    image = tf.cond(cond_crop, lambda: tf.image.resize_images(\n",
    "        tf.random_crop(image, [int(HEIGHT * 0.85), int(WIDTH * 0.85), 3]),\n",
    "        size=[HEIGHT, WIDTH]), lambda: tf.cast(image, tf.float32))\n",
    "    \n",
    "    return image\n",
    "\n",
    "def _flip_random(image):\n",
    "    \"\"\"Randomly flips image left and right\"\"\"\n",
    "    \n",
    "    image = tf.image.random_flip_left_right(image)    \n",
    "    image = tf.image.random_flip_up_down(image)\n",
    "\n",
    "    return image\n",
    "\n",
    "def _rotate_random(image):\n",
    "    \"\"\"Randomly rotate the image\"\"\"\n",
    "    \n",
    "    cond_rotate = tf.cast(tf.random_uniform(\n",
    "        [], maxval=2, dtype=tf.int32), tf.bool)\n",
    "\n",
    "    div = tf.random_uniform([], minval=1,maxval=5, dtype=tf.int32)\n",
    "    radian = tf.constant(m.pi) / tf.cast(div, tf.float32)\n",
    "\n",
    "    image = tf.cond(cond_rotate,lambda:tf.cast(tf.contrib.image.rotate(image, radian), tf.float32),\n",
    "                    lambda: tf.cast(image, tf.float32))\n",
    "    \n",
    "    return image\n",
    "\n",
    "def _normalize_data(image):\n",
    "    \"\"\"Normalize image and mask within range 0-1.\"\"\"\n",
    "    image = image / 255.0\n",
    "    return image\n",
    "\n",
    "def data_augmentation(image, label):\n",
    "    \"\"\"Function that does random crop, flip, rotate\"\"\"\n",
    "    image = _crop_random(image)\n",
    "    image = _flip_random(image)\n",
    "    image = _rotate_random(image)\n",
    "                   \n",
    "    return image, label\n",
    "\n",
    "def _parse_function(serialized_example):\n",
    "    \n",
    "    \"\"\"Parses a single tf.Example into image and label tensors.\"\"\"\n",
    "    features = tf.parse_single_example(\n",
    "        serialized_example,\n",
    "        features={\n",
    "            'image': tf.FixedLenFeature([], tf.string),\n",
    "            'label': tf.FixedLenFeature([], tf.int64),\n",
    "        })\n",
    "    image = tf.decode_raw(features['image'], tf.uint8)\n",
    "    image.set_shape([DEPTH * HEIGHT * WIDTH])\n",
    "\n",
    "    # Reshape from [depth * height * width] to [depth, height, width].\n",
    "    image = tf.cast(\n",
    "        tf.transpose(tf.reshape(image, [DEPTH, HEIGHT, WIDTH]), [1, 2, 0]),\n",
    "        tf.float32)\n",
    "    label = tf.cast(features['label'], tf.int32)\n",
    "    image = _normalize_data(image)\n",
    "    return image, label\n",
    "\n",
    "# The train.txt file must contain the path for images and the labels\n",
    "\n",
    "filename =['/home/vijay/datasets/image/cifar-10/cifar-10-batches-py/validation.tfrecords']\n",
    "dataset = tf.data.TFRecordDataset(filename)\n",
    "dataset = dataset.map(_parse_function)\n",
    "dataset = dataset.shuffle(buffer_size=100)\n",
    "dataset = dataset.batch(1)\n",
    "iterator = dataset.make_one_shot_iterator()\n",
    "\n",
    "# Run the above\n",
    "with tf.Session() as sess:\n",
    "    batch_images_1, batch_labels_1 = sess.run(iterator.get_next())\n",
    "    batch_images_2, batch_labels_2 = sess.run(iterator.get_next())"
   ]
  },
  {
   "cell_type": "code",
   "execution_count": 10,
   "metadata": {},
   "outputs": [
    {
     "data": {
      "text/plain": [
       "<matplotlib.image.AxesImage at 0x7f2b541d9828>"
      ]
     },
     "execution_count": 10,
     "metadata": {},
     "output_type": "execute_result"
    },
    {
     "data": {
      "image/png": "[encoded data removed]",
      "text/plain": [
       "<Figure size 432x288 with 1 Axes>"
      ]
     },
     "metadata": {},
     "output_type": "display_data"
    }
   ],
   "source": [
    "plt.imshow(np.squeeze(batch_images_1))"
   ]
  },
  {
   "cell_type": "code",
   "execution_count": 11,
   "metadata": {},
   "outputs": [
    {
     "data": {
      "text/plain": [
       "<matplotlib.image.AxesImage at 0x7f2b540956d8>"
      ]
     },
     "execution_count": 11,
     "metadata": {},
     "output_type": "execute_result"
    },
    {
     "data": {
      "image/png": "[encoded data removed]",
      "text/plain": [
       "<Figure size 432x288 with 1 Axes>"
      ]
     },
     "metadata": {},
     "output_type": "display_data"
    }
   ],
   "source": [
    "plt.imshow(np.squeeze(batch_images_2))"
   ]
  },
  {
   "cell_type": "markdown",
   "metadata": {},
   "source": [
    "____________________\n",
    "### Training: Toggle between train and validation set\n",
    "_______________________\n",
    "\n"
   ]
  },
  {
   "cell_type": "code",
   "execution_count": 12,
   "metadata": {},
   "outputs": [],
   "source": [
    "\n",
    "def input_pipeline(filename, batch_size, validation=False):\n",
    "    \"\"\" Input data pipeline, no augmentation during validation\"\"\"\n",
    "    # Read from csv\n",
    "    dataset = tf.data.TFRecordDataset(filename)\n",
    "    dataset = dataset.map(_parse_function, num_parallel_calls=4)\n",
    "    \n",
    "    # shuffle for only train set\n",
    "    if validation == False:\n",
    "        # here iam combining both normal and augmented samples\n",
    "        augmented = dataset.map(data_augmentation, num_parallel_calls=4)\n",
    "        dataset = dataset.concatenate(augmented)\n",
    "        dataset = dataset.shuffle(buffer_size=10000).repeat()\n",
    "            \n",
    "    dataset = dataset.batch(batch_size)\n",
    " \n",
    "    return dataset \n"
   ]
  },
  {
   "cell_type": "code",
   "execution_count": 13,
   "metadata": {},
   "outputs": [
    {
     "name": "stdout",
     "output_type": "stream",
     "text": [
      "total valid data: 10112\n",
      "total valid data: 10112\n",
      "total test data: 10112\n"
     ]
    }
   ],
   "source": [
    "tf.reset_default_graph()\n",
    "BATCH_SIZE = 128\n",
    "train_graph = tf.Graph()\n",
    "with train_graph.as_default():\n",
    "    \n",
    "    # placeholder for passing testing dataset\n",
    "    test_filenames = tf.placeholder(tf.string, shape=[None], name='input')\n",
    "    train_filenames = sorted(glob.glob(os.path.join(CIFAR_LOCAL_FOLDER, '%s*' %'train*.tfrecords')))\n",
    "    \n",
    "    # Create valid and train iterators\n",
    "    train_dataset = input_pipeline(train_filenames, BATCH_SIZE)\n",
    "    test_dataset = input_pipeline(test_filenames, BATCH_SIZE,  validation=True)\n",
    "    \n",
    "    # A feedable iterator is defined by a handle placeholder and its structure.\n",
    "    handle = tf.placeholder(tf.string, shape=[], name='handle')\n",
    "\n",
    "    iterator = tf.data.Iterator.from_string_handle(handle, \n",
    "                                                   train_dataset.output_types, \n",
    "                                                   train_dataset.output_shapes)\n",
    "    \n",
    "    # Returns a batch of image and mask at every call\n",
    "    image_batch, label_batch = iterator.get_next()\n",
    "    \n",
    "    image_batch = tf.identity(image_batch, 'images')\n",
    "    label_batch = tf.identity(label_batch, 'labels')\n",
    "    \n",
    "    # Create a initializable iterator for valid dataset, \n",
    "    # so that the dataset is same for every valid loop.\n",
    "    testing_iterator = test_dataset.make_initializable_iterator()\n",
    "    training_iterator = train_dataset.make_one_shot_iterator()#make_initializable_iterator()\n",
    "    \n",
    "    # Build the iterator SaveableObject.\n",
    "    saveable = tf.contrib.data.make_saveable_from_iterator(testing_iterator)\n",
    "\n",
    "    # Save the iterator state by adding it to the saveable objects collection.\n",
    "    tf.add_to_collection(tf.GraphKeys.SAVEABLE_OBJECTS, saveable)\n",
    "\n",
    "    with tf.Session() as sess:\n",
    "        # The `Iterator.string_handle()` method returns a tensor that can be evaluated\n",
    "        # and used to feed the `handle` placeholder.\n",
    "        valid_files = sorted(glob.glob(os.path.join(CIFAR_LOCAL_FOLDER, '%s*' %'valid*.tfrecords')))\n",
    "        test_files = sorted(glob.glob(os.path.join(CIFAR_LOCAL_FOLDER, '%s*' %'eval*.tfrecords')))\n",
    "        train_handle = sess.run(training_iterator.string_handle())\n",
    "        valid_handle = sess.run(testing_iterator.string_handle(), {test_filenames: valid_files})\n",
    "        step = 0\n",
    "        while True:\n",
    "            step += 1\n",
    "            try:\n",
    "                # The train images are passed\n",
    "                train_images, train_labels = sess.run([image_batch, label_batch], {handle:train_handle})  \n",
    "\n",
    "                 \n",
    "                # Valid images are passed for validation\n",
    "                if (step % 10) == 0:\n",
    "                    sess.run(testing_iterator.initializer, {test_filenames: valid_files})\n",
    "                    count = 0\n",
    "                    while True:\n",
    "                        try:\n",
    "                            valid_images, valid_labels = sess.run([image_batch, label_batch], {handle:valid_handle})  \n",
    "                            count += BATCH_SIZE\n",
    "                        except tf.errors.OutOfRangeError:\n",
    "                            break\n",
    "                    print('total valid data:',  count)\n",
    "                    \n",
    "                # test images are passed by changing the test_filenames placeholder    \n",
    "                if (step % 20) == 0:\n",
    "                    sess.run(testing_iterator.initializer, {test_filenames: test_files})\n",
    "                    count = 0\n",
    "                    while True:\n",
    "                        try:\n",
    "                            test_images, test_labels = sess.run([image_batch, label_batch], {handle:valid_handle})  \n",
    "                            count += BATCH_SIZE\n",
    "                        except tf.errors.OutOfRangeError:\n",
    "                            break\n",
    "                    print('total test data:',  count)\n",
    "                    break  # remove this if you want to run the train loop for ever.\n",
    "\n",
    "            except tf.errors.OutOfRangeError:\n",
    "                print('Completed training...')\n",
    "                break\n",
    "        # Save the model\n",
    "        saver = tf.train.Saver()\n",
    "        saver.save(sess, './slim_model/wide_resnet')"
   ]
  },
  {
   "cell_type": "markdown",
   "metadata": {},
   "source": [
    "\n",
    "### Restore the model and check loading test handle"
   ]
  },
  {
   "cell_type": "code",
   "execution_count": 14,
   "metadata": {},
   "outputs": [
    {
     "name": "stdout",
     "output_type": "stream",
     "text": [
      "INFO:tensorflow:Restoring parameters from ./slim_model/wide_resnet\n",
      "total test data: 10000\r"
     ]
    }
   ],
   "source": [
    "#Restore the save model\n",
    "#Just to make sure reset the old graphs, \n",
    "tf.reset_default_graph()\n",
    "graph = tf.Graph()\n",
    "\n",
    "with tf.Session(graph=graph) as sess:\n",
    "    \n",
    "    #Load the graph\n",
    "    saver = tf.train.import_meta_graph('./slim_model/wide_resnet.meta')\n",
    "    #Restore the weights\n",
    "    saver.restore(sess, tf.train.latest_checkpoint('./slim_model/'))\n",
    "   \n",
    "    #Restore the feedig mechanism, output tensors\n",
    "    filenames_feed = graph.get_tensor_by_name('input:0')\n",
    "    images = graph.get_tensor_by_name('images:0')\n",
    "    labels = graph.get_tensor_by_name('labels:0')\n",
    "\n",
    "    # Get iterator handle from the graph \n",
    "    handle = graph.get_tensor_by_name('handle:0')\n",
    "    #testing_iterator = tf.get_collection(tf.GraphKeys.SAVEABLE_OBJECTS)[0]\n",
    "    \n",
    "    #make a new iterator\n",
    "    dataset = input_pipeline(filenames_feed, BATCH_SIZE,  validation=True)\n",
    "    \n",
    "    testing_iterator = dataset.make_initializable_iterator()\n",
    "    \n",
    "    # Do inference with the restored variables.\n",
    "    test_handle = sess.run(testing_iterator.string_handle(), feed_dict={filenames_feed: test_files})\n",
    "    sess.run(testing_iterator.initializer, {filenames_feed: test_files})\n",
    "    count = 0\n",
    "    while True:\n",
    "        try:\n",
    "            test_images, test_labels = sess.run([images, labels], {handle:test_handle})  \n",
    "            count += len(test_images)\n",
    "\n",
    "        except tf.errors.OutOfRangeError:\n",
    "            break\n",
    "        print('total test data:',  count, end ='\\r', flush=True)"
   ]
  },
  {
   "cell_type": "code",
   "execution_count": 15,
   "metadata": {},
   "outputs": [
    {
     "data": {
      "text/plain": [
       "<matplotlib.image.AxesImage at 0x7f2ae7305ba8>"
      ]
     },
     "execution_count": 15,
     "metadata": {},
     "output_type": "execute_result"
    },
    {
     "data": {
      "image/png": "[encoded data removed]",
      "text/plain": [
       "<Figure size 432x288 with 1 Axes>"
      ]
     },
     "metadata": {},
     "output_type": "display_data"
    }
   ],
   "source": [
    "plt.imshow(np.squeeze(test_images[4]))"
   ]
  },
  {
   "cell_type": "markdown",
   "metadata": {},
   "source": [
    " ---- EOF ----"
   ]
  }
 ],
 "metadata": {
  "kernelspec": {
   "display_name": "Python 3",
   "language": "python",
   "name": "python3"
  },
  "language_info": {
   "codemirror_mode": {
    "name": "ipython",
    "version": 3
   },
   "file_extension": ".py",
   "mimetype": "text/x-python",
   "name": "python",
   "nbconvert_exporter": "python",
   "pygments_lexer": "ipython3",
   "version": "3.5.2"
  }
 },
 "nbformat": 4,
 "nbformat_minor": 2
}
