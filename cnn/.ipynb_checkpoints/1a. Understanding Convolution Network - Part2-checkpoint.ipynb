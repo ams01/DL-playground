{
 "cells": [
  {
   "cell_type": "markdown",
   "metadata": {},
   "source": [
    "*********\n",
    " # Understanding convolutional networks - part 2:\n",
    "\n",
    "    1/ Use a set of weights(kernels) obtained from predefined gabor filters\n",
    "    2/ train a convolution network with the predefined filters\n",
    "    3/ Compare it with a convolutional network, with derived weights from back propagation\n",
    "*********"
   ]
  },
  {
   "cell_type": "code",
   "execution_count": 1,
   "metadata": {},
   "outputs": [
    {
     "name": "stderr",
     "output_type": "stream",
     "text": [
      "/usr/local/lib/python3.5/dist-packages/h5py/__init__.py:36: FutureWarning: Conversion of the second argument of issubdtype from `float` to `np.floating` is deprecated. In future, it will be treated as `np.float64 == np.dtype(float).type`.\n",
      "  from ._conv import register_converters as _register_converters\n"
     ]
    },
    {
     "name": "stdout",
     "output_type": "stream",
     "text": [
      "Python version: 3.5.2 (default, Nov 23 2017, 16:37:01) \n",
      "[GCC 5.4.0 20160609]\n",
      "TF version: 1.8.0\n"
     ]
    }
   ],
   "source": [
    "import tensorflow as tf\n",
    "import numpy as np\n",
    "import matplotlib.pyplot as plt\n",
    "import sys\n",
    "print('Python version:',sys.version)\n",
    "print('TF version:',tf.__version__)\n",
    "SEED = 42"
   ]
  },
  {
   "cell_type": "code",
   "execution_count": 2,
   "metadata": {},
   "outputs": [],
   "source": [
    "def gabor(n_values=7, sigma=1.0, mean=0.0):\n",
    "    x = tf.linspace(-3.0, 3.0, n_values)\n",
    "    z = (tf.exp(tf.negative(tf.pow(x - mean, 2.0) /\n",
    "                       (2.0 * tf.pow(sigma, 2.0)))) *\n",
    "         (1.0 / (sigma * tf.sqrt(2.0 * 3.1415))))\n",
    "    gauss_kernel = tf.matmul(\n",
    "        tf.reshape(z, [n_values, 1]), tf.reshape(z, [1, n_values]))\n",
    "    x = tf.reshape(tf.sin(tf.linspace(-3.0, 3.0, n_values)), [n_values, 1])\n",
    "    y = tf.reshape(tf.ones_like(x), [1, n_values])\n",
    "    gabor_kernel = tf.multiply(tf.matmul(x, y), gauss_kernel)\n",
    "    return gabor_kernel"
   ]
  },
  {
   "cell_type": "code",
   "execution_count": 3,
   "metadata": {},
   "outputs": [
    {
     "data": {
      "image/png": "[encoded data removed]",
      "text/plain": [
       "<Figure size 432x288 with 1 Axes>"
      ]
     },
     "metadata": {},
     "output_type": "display_data"
    }
   ],
   "source": [
    "with tf.Session() as sess:\n",
    "    out = gabor().eval()\n",
    "\n",
    "plt.imshow(out, cmap='gray')\n",
    "plt.show()"
   ]
  },
  {
   "cell_type": "code",
   "execution_count": 4,
   "metadata": {},
   "outputs": [
    {
     "data": {
      "image/png": "[encoded data removed]",
      "text/plain": [
       "<Figure size 432x288 with 1 Axes>"
      ]
     },
     "metadata": {},
     "output_type": "display_data"
    }
   ],
   "source": [
    "from PIL import Image\n",
    "kernels = []\n",
    "for i, angle in enumerate(range(0, 180, 10)):\n",
    "    rotated = Image.Image.rotate(Image.fromarray(out), angle)\n",
    "    kernels.append(np.array(rotated))\n",
    "plt.imshow(kernels[2], cmap='gray')\n",
    "plt.show()"
   ]
  },
  {
   "cell_type": "code",
   "execution_count": 5,
   "metadata": {},
   "outputs": [],
   "source": [
    "# conv2d we will convolve the input with the predefined kernel\n",
    "def conv2d_maxpool(x_tensor, kernels, pool_ksize, pool_strides):\n",
    "    \"\"\" Conv block\"\"\"\n",
    "    # convolutional layer\n",
    "    conv = tf.nn.conv2d(x_tensor, kernels, strides=[1, 1, 1, 1], padding='SAME')\n",
    "    # relu activation\n",
    "    conv = tf.nn.relu(conv)\n",
    "    # max pooling\n",
    "    conv = tf.nn.max_pool(conv, ksize = [1, pool_ksize[0], pool_ksize[1], 1],\n",
    "                         strides = [1, pool_strides[0], pool_strides[1], 1],\n",
    "                         padding = 'SAME')\n",
    "    return conv\n",
    "\n",
    "def flatten(x_tensor):\n",
    "    \"\"\" flatten the layers\"\"\"\n",
    "    size = x_tensor.get_shape().as_list()\n",
    "    x_tensor = tf.reshape(x_tensor, [-1, size[1]*size[2]*size[3]])\n",
    "    return x_tensor\n",
    "\n",
    "def fully_conn(x_tensor, num_outputs):\n",
    "    \"\"\" Fully connected layer\"\"\"\n",
    "    size = x_tensor.get_shape().as_list()\n",
    "    weights = tf.Variable(tf.truncated_normal((size[1], num_outputs), stddev=0.02, seed=SEED))\n",
    "    bias = tf.Variable(tf.zeros(num_outputs))\n",
    "    dense = tf.add(tf.matmul(x_tensor, weights), bias)\n",
    "    out = tf.nn.relu(dense)\n",
    "    return out\n",
    "\n",
    "def output(x_tensor, num_outputs):\n",
    "    size = x_tensor.get_shape().as_list()\n",
    "    weights = tf.Variable(tf.truncated_normal((size[1], num_outputs), stddev=0.02,seed=SEED))\n",
    "    bias = tf.Variable(tf.zeros(num_outputs))\n",
    "    dense = tf.add(tf.matmul(x_tensor, weights), bias)\n",
    "    return dense\n"
   ]
  },
  {
   "cell_type": "code",
   "execution_count": 6,
   "metadata": {},
   "outputs": [],
   "source": [
    "# Download the MNIST dataset\n",
    "(x_train, y_train), (x_test, y_test) = tf.keras.datasets.mnist.load_data()"
   ]
  },
  {
   "cell_type": "code",
   "execution_count": 7,
   "metadata": {},
   "outputs": [],
   "source": [
    "# define a simple convolution network\n",
    "def conv_net(x, kernels):\n",
    "    conv = conv2d_maxpool(x, kernels, (2,2), (2,2))\n",
    "    flat = flatten(conv)\n",
    "    dense = fully_conn(flat, 128)\n",
    "    out = output(dense, 10)\n",
    "    return out"
   ]
  },
  {
   "cell_type": "code",
   "execution_count": 8,
   "metadata": {},
   "outputs": [
    {
     "data": {
      "image/png": "[encoded data removed]",
      "text/plain": [
       "<Figure size 432x288 with 1 Axes>"
      ]
     },
     "metadata": {},
     "output_type": "display_data"
    }
   ],
   "source": [
    "# The images are in a single vector of 784 (28*28). need to reshape to convert it to a image\n",
    "im = np.reshape(x_train[2],[28,28])\n",
    "plt.imshow(im, cmap='gray')\n",
    "plt.show()"
   ]
  },
  {
   "cell_type": "markdown",
   "metadata": {},
   "source": [
    "## Hand coded kernels for the convolution\n",
    "\n",
    "> Here we use the handcoded gabor filters for the convolution.\n",
    "> The fully connected layers are learned through backpropagation through."
   ]
  },
  {
   "cell_type": "code",
   "execution_count": 9,
   "metadata": {},
   "outputs": [
    {
     "name": "stdout",
     "output_type": "stream",
     "text": [
      "step 2900, training accuracy 0.5996 \n",
      " Test accuracy 0.5997\n"
     ]
    }
   ],
   "source": [
    "tf.reset_default_graph()\n",
    "\n",
    "# Feed batch data\n",
    "def get_batch(inputX, inputY, batch_size):\n",
    "    duration = len(inputX)\n",
    "    for i in range(0,duration//batch_size):\n",
    "        idx = i*batch_size\n",
    "        yield inputX[idx:idx+batch_size]/255., inputY[idx:idx+batch_size]\n",
    "        \n",
    "\n",
    "# Input placeholders\n",
    "x = tf.placeholder(tf.float32,(None, 28,28,1), name='x')\n",
    "\n",
    "y = tf.placeholder(tf.int32,(None), name='y' )\n",
    "# convert to one hot encoding\n",
    "y_one_hot = tf.one_hot(y,10)\n",
    "\n",
    "\n",
    "# The kernel weights are fixed\n",
    "kernels = np.reshape(kernels,[7,7,1,18])\n",
    "weights = tf.constant(kernels, dtype=tf.float32)\n",
    "\n",
    "# un normalized log propabilities\n",
    "logits = conv_net(x, weights)\n",
    "\n",
    "# cost and the minimizers\n",
    "loss = tf.reduce_mean(tf.nn.softmax_cross_entropy_with_logits_v2(logits=logits, labels=y_one_hot))\n",
    "optimizer = tf.train.GradientDescentOptimizer(0.5).minimize(loss)\n",
    "\n",
    "#get the predictions\n",
    "correct_pred = tf.equal(tf.cast(tf.argmax(logits, 1), tf.int32), y)\n",
    "\n",
    "#calculate the accuracy\n",
    "accuracy = tf.reduce_mean(tf.cast(correct_pred, tf.float32))\n",
    "\n",
    "# run the graph in a session\n",
    "with tf.Session() as sess:\n",
    "    sess.run(tf.global_variables_initializer())\n",
    "    for i in range(3000):\n",
    "        batch_x, batch_y = next(get_batch(x_train, y_train, 50))\n",
    "        optimizer.run(feed_dict={x: batch_x[...,None], y: batch_y})\n",
    "        if i%100 == 0:\n",
    "            train_accuracy = accuracy.eval(feed_dict={x:x_test[...,None], y:y_test})\n",
    "            print(\"step %d, training accuracy %g \"%(i, train_accuracy), end ='\\r', flush=True)\n",
    "    accuracy = sess.run(accuracy, feed_dict={x:x_test[...,None], y:y_test})\n",
    "    print(\"\\n Test accuracy %g\"%accuracy)\n"
   ]
  },
  {
   "cell_type": "markdown",
   "metadata": {},
   "source": [
    "********\n",
    "We get a accuracy of close to 0.6 with the hand-coded kernel approach.\n",
    "Now instead of predefining our kernel, let the neural network find its own kernel through backpropagration.\n",
    "********"
   ]
  },
  {
   "cell_type": "markdown",
   "metadata": {},
   "source": [
    "## kernel weights are learned using back propagation\n",
    "\n",
    "> Here all the weights of filters for the convolution are learned."
   ]
  },
  {
   "cell_type": "code",
   "execution_count": 10,
   "metadata": {},
   "outputs": [],
   "source": [
    "def conv2d_maxpool_w(x_tensor, conv_num_outputs, conv_ksize, conv_strides, pool_ksize, pool_strides):\n",
    "    \n",
    "    in_channels = x_tensor.get_shape().as_list()[3]\n",
    "    \n",
    "    weight = tf.Variable(tf.truncated_normal((conv_ksize[0], conv_ksize[1], in_channels, conv_num_outputs), stddev=0.1,seed=SEED))\n",
    "\n",
    "    bias = tf.Variable(tf.zeros(conv_num_outputs))\n",
    "    \n",
    "    \n",
    "    conv = tf.nn.conv2d(x_tensor, \n",
    "                        weight, \n",
    "                        strides=[1, conv_strides[0], conv_strides[1], 1],\n",
    "                        padding = 'SAME')\n",
    "    conv = tf.nn.bias_add(conv, bias)\n",
    "    conv = tf.nn.relu(conv) \n",
    "    conv_maxpool = tf.nn.max_pool(conv,\n",
    "                                  ksize = [1, pool_ksize[0], pool_ksize[1], 1],\n",
    "                                  strides = [1, pool_strides[0], pool_strides[1], 1],\n",
    "                                  padding = 'SAME')\n",
    "    return conv_maxpool\n",
    "\n",
    "# define a simple convolution network\n",
    "def conv_net_w(x):\n",
    "    conv = conv2d_maxpool_w(x, 18, (7,7),(1,1),(2,2),(2,2))\n",
    "    flat = flatten(conv)\n",
    "    dense = fully_conn(flat, 128)\n",
    "    out = output(dense, 10)\n",
    "    return out"
   ]
  },
  {
   "cell_type": "code",
   "execution_count": 11,
   "metadata": {},
   "outputs": [
    {
     "name": "stdout",
     "output_type": "stream",
     "text": [
      "step 2900, training accuracy 0.675  \n",
      " Test accuracy 0.675\n"
     ]
    }
   ],
   "source": [
    "tf.reset_default_graph()\n",
    "\n",
    "# Input placeholders\n",
    "# Input placeholders\n",
    "x = tf.placeholder(tf.float32,(None, 28,28,1), name='x')\n",
    "\n",
    "y = tf.placeholder(tf.int32,(None), name='y' )\n",
    "# convert to one hot encoding\n",
    "y_one_hot = tf.one_hot(y,10)\n",
    "\n",
    "# get the unormalized probabilities\n",
    "logits = conv_net_w(x)\n",
    "\n",
    "# cost and solvers\n",
    "loss = tf.reduce_mean(tf.nn.softmax_cross_entropy_with_logits_v2(logits=logits, labels=y_one_hot))\n",
    "optimizer = tf.train.GradientDescentOptimizer(.5).minimize(loss)\n",
    "\n",
    "# Get the correct predictions\n",
    "correct_pred = tf.equal(tf.cast(tf.argmax(logits, 1), tf.int32), y)\n",
    "# Obtain the accuracy\n",
    "accuracy = tf.reduce_mean(tf.cast(correct_pred, tf.float32))\n",
    "\n",
    "# run the graph in a session\n",
    "with tf.Session() as sess:\n",
    "    sess.run(tf.global_variables_initializer())\n",
    "    for i in range(3000):\n",
    "        batch_x, batch_y = next(get_batch(x_train, y_train, 50))\n",
    "        optimizer.run(feed_dict={x: batch_x[...,None], y: batch_y})\n",
    "        if i%100 == 0:\n",
    "            train_accuracy = accuracy.eval(feed_dict={x:x_test[...,None], y:y_test})\n",
    "            print(\"step %d, training accuracy %g \"%(i, train_accuracy), end ='\\r', flush=True)\n",
    "    accuracy = sess.run(accuracy, feed_dict={x:x_test[...,None], y:y_test})\n",
    "    print(\"\\n Test accuracy %g\"%accuracy)\n"
   ]
  },
  {
   "cell_type": "markdown",
   "metadata": {
    "collapsed": true
   },
   "source": [
    "In this case we get a Acuracy of 0.67.\n",
    "So instead of handcoding the input features, learning the filters through backpropogation is the best way!."
   ]
  },
  {
   "cell_type": "markdown",
   "metadata": {},
   "source": [
    "-- EOF --"
   ]
  },
  {
   "cell_type": "code",
   "execution_count": null,
   "metadata": {},
   "outputs": [],
   "source": []
  }
 ],
 "metadata": {
  "kernelspec": {
   "display_name": "Python 3",
   "language": "python",
   "name": "python3"
  },
  "language_info": {
   "codemirror_mode": {
    "name": "ipython",
    "version": 3
   },
   "file_extension": ".py",
   "mimetype": "text/x-python",
   "name": "python",
   "nbconvert_exporter": "python",
   "pygments_lexer": "ipython3",
   "version": "3.5.2"
  }
 },
 "nbformat": 4,
 "nbformat_minor": 2
}
